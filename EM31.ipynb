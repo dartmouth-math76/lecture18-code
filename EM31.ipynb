{
 "cells": [
  {
   "cell_type": "code",
   "execution_count": 60,
   "metadata": {},
   "outputs": [],
   "source": [
    "%matplotlib inline\n",
    "import numpy as np\n",
    "import matplotlib.pyplot as plt\n",
    "\n",
    "from HelperFunctions import AcceptOrReject"
   ]
  },
  {
   "cell_type": "code",
   "execution_count": 11,
   "metadata": {},
   "outputs": [],
   "source": [
    "cond_ice = 60.0 # Conductivity of ice\n",
    "cond_water = 2380.0 # Conductivity sea water\n"
   ]
  },
  {
   "cell_type": "markdown",
   "metadata": {},
   "source": [
    "## Define the forward model"
   ]
  },
  {
   "cell_type": "code",
   "execution_count": 12,
   "metadata": {},
   "outputs": [],
   "source": [
    "def Rv(z):\n",
    "    return 1.0/np.sqrt(4.0*z*z+1.0)\n",
    "\n",
    "def Em31Model(ice_thick):\n",
    "    \"\"\" Returns the predicted conductivity returned by the EM31 system given a particular ice thickness. \"\"\"\n",
    "    return cond_ice*(1.0-Rv(ice_thick)) + cond_water*Rv(ice_thick)"
   ]
  },
  {
   "cell_type": "code",
   "execution_count": 52,
   "metadata": {},
   "outputs": [],
   "source": [
    "thicknesses = np.linspace(0.1, 5, 200)\n",
    "\n",
    "pred_meas = Em31Model(thicknesses)\n"
   ]
  },
  {
   "cell_type": "markdown",
   "metadata": {},
   "source": [
    "### Define the Log-Likelihood function"
   ]
  },
  {
   "cell_type": "code",
   "execution_count": 53,
   "metadata": {},
   "outputs": [],
   "source": [
    "def LogLikelihood(thick, obs_cond):\n",
    "    \"\"\" Returns the log likelihood. \n",
    "        \n",
    "        ARGS:\n",
    "            thick (float or np.array): Thickness of the ice.\n",
    "            obs_cond (float): Observed conductivity returned by the EM31.\n",
    "        \n",
    "        RETURNS:\n",
    "            float or np.array: The natural log of the likelihood function up to a constant.\n",
    "        \n",
    "    \"\"\"\n",
    "    obs_var = 20.0**2\n",
    "    \n",
    "    pred_cond = Em31Model(thick)\n",
    "    diff = obs_cond-pred_cond\n",
    "    \n",
    "    return -0.5*diff*diff/obs_var\n",
    "    \n",
    "    \n",
    "def LogPrior(thick):\n",
    "    \"\"\" Returns the log of the prior density (up to a normalizing constant) on the ice thickness.\n",
    "        \n",
    "        ARGS:\n",
    "            thick (float or np.array): Ice thickness\n",
    "            \n",
    "        RETURNS:\n",
    "            float or np.array: The natural log of the prior density.\n",
    "    \"\"\"\n",
    "    \n",
    "    mu = 1.0\n",
    "    prior_std = 3.0\n",
    "    lb =0.01\n",
    "    ub =6.0\n",
    "    \n",
    "    gauss_part = -0.5*((thick-mu)/prior_std)**2\n",
    "    \n",
    "    large_val =1e10\n",
    "    \n",
    "    \n",
    "    if(thick is float):\n",
    "        uni_part = 0.0\n",
    "        \n",
    "        if((thick<lb)|(thick>ub)):\n",
    "            uni_part = -large_val\n",
    "    else:\n",
    "        uni_part = np.zeros(thick.shape)\n",
    "        uni_part[(thick<lb)|(thick>ub)] = -large_val\n",
    "        \n",
    "    return gauss_part + uni_part\n",
    "    \n",
    "def LogPosterior(thick, obs_cond):\n",
    "    \"\"\" Returns the log posterior (up to a normalizing constant) \"\"\"\n",
    "    \n",
    "    return LogPrior(thick) + LogLikelihood(thick,obs_cond)\n",
    "    \n",
    "    "
   ]
  },
  {
   "cell_type": "code",
   "execution_count": 58,
   "metadata": {},
   "outputs": [
    {
     "data": {
      "text/plain": [
       "[<matplotlib.lines.Line2D at 0x12506c470>]"
      ]
     },
     "execution_count": 58,
     "metadata": {},
     "output_type": "execute_result"
    },
    {
     "data": {
      "image/png": "[encoded data removed]",
      "text/plain": [
       "<Figure size 432x288 with 1 Axes>"
      ]
     },
     "metadata": {
      "needs_background": "light"
     },
     "output_type": "display_data"
    }
   ],
   "source": [
    "obs_cond = 500\n",
    "\n",
    "post = np.exp(LogPosterior(thicknesses,obs_cond))\n",
    "plt.plot(thicknesses,post)"
   ]
  },
  {
   "cell_type": "code",
   "execution_count": null,
   "metadata": {},
   "outputs": [],
   "source": []
  },
  {
   "cell_type": "markdown",
   "metadata": {},
   "source": [
    "## Metropolis-Hastings MCMC\n",
    "\n",
    "The Metropolis-Hastings rule is given by\n"
   ]
  },
  {
   "cell_type": "code",
   "execution_count": 70,
   "metadata": {},
   "outputs": [],
   "source": [
    "num_steps = 500\n",
    "prop_std = 0.1\n",
    "\n",
    "# Intialize empty arrays for the thickness samples the log posterior pdfs at each sample\n",
    "samps = np.zeros((num_steps))\n",
    "log_pdfs = np.zeros((num_steps))\n",
    "\n",
    "samps[0] = 2.0 # set the initial thickness\n",
    "log_pdfs[0] = LogPosterior(samps[0], obs_cond)\n",
    "\n",
    "for i in range(num_steps-1):\n",
    "    \n",
    "    # Generate a proposed move\n",
    "    prop = samps[i] + prop_std*np.random.randn()\n",
    "    \n",
    "    # Evaluate the log posterior at the proposed point\n",
    "    prop_log_pdf = LogPosterior(prop, obs_cond)\n",
    "    \n",
    "    gamma = np.exp(prop_log_pdf - log_pdfs[i])\n",
    "    \n",
    "    # Part of your pset is to figure out what's going on in the AcceptOrReject function\n",
    "    should_accept = AcceptOrReject(gamma)\n",
    "    \n",
    "    if(should_accept):\n",
    "        samps[i+1] = prop\n",
    "        log_pdfs[i+1] = prop_log_pdf\n",
    "    else:\n",
    "        samps[i+1] = samps[i]\n",
    "        log_pdfs[i+1]  = log_pdfs[i]\n",
    "        "
   ]
  },
  {
   "cell_type": "markdown",
   "metadata": {},
   "source": [
    "### Plot the trace of the MCMC chain"
   ]
  },
  {
   "cell_type": "code",
   "execution_count": 71,
   "metadata": {},
   "outputs": [
    {
     "data": {
      "image/png": "[encoded data removed]",
      "text/plain": [
       "<Figure size 432x288 with 1 Axes>"
      ]
     },
     "metadata": {
      "needs_background": "light"
     },
     "output_type": "display_data"
    }
   ],
   "source": [
    "plt.plot(samps)\n",
    "\n",
    "plt.xlabel('MCMC Iteration')\n",
    "plt.ylabel('Ice Thickness')\n",
    "plt.show()"
   ]
  },
  {
   "cell_type": "code",
   "execution_count": 68,
   "metadata": {},
   "outputs": [
    {
     "data": {
      "image/png": "[encoded data removed]",
      "text/plain": [
       "<Figure size 432x288 with 1 Axes>"
      ]
     },
     "metadata": {
      "needs_background": "light"
     },
     "output_type": "display_data"
    }
   ],
   "source": [
    "plt.hist(samps,30)\n",
    "\n",
    "plt.xlabel('Ice Thickness')\n",
    "plt.show()"
   ]
  },
  {
   "cell_type": "code",
   "execution_count": null,
   "metadata": {},
   "outputs": [],
   "source": []
  }
 ],
 "metadata": {
  "kernelspec": {
   "display_name": "Python 3",
   "language": "python",
   "name": "python3"
  },
  "language_info": {
   "codemirror_mode": {
    "name": "ipython",
    "version": 3
   },
   "file_extension": ".py",
   "mimetype": "text/x-python",
   "name": "python",
   "nbconvert_exporter": "python",
   "pygments_lexer": "ipython3",
   "version": "3.7.3"
  }
 },
 "nbformat": 4,
 "nbformat_minor": 4
}
